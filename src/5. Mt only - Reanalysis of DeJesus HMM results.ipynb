{
 "cells": [
  {
   "cell_type": "markdown",
   "metadata": {},
   "source": [
    "## Reanalysis of DeJesus et al. (2017) HMM results - Mycobacterium tuberculosis only"
   ]
  },
  {
   "cell_type": "markdown",
   "metadata": {},
   "source": [
    "The aim of this script is to use the existing results from the HMM model used in __DeJesus et al. (2017)__ to assign essentiality to the different genetic features identified in the _M. tuberculosis_ genome. This effectively recreates the __.genes.txt file__ produced by the TRANSIT HMM model.  \n",
    "This is done because the HMM model used in DeJesus et al. (2017) is unavailable publicly, so the data must be adapted directly from the paper.  \n",
    "This step is unnecessary for _M. bovis_ as the .genes.txt file is produced directly from the TRANSIT HMM model."
   ]
  },
  {
   "cell_type": "code",
   "execution_count": 1,
   "metadata": {},
   "outputs": [],
   "source": [
    "import pandas as pd\n",
    "import gffpandas.gffpandas as gffpd"
   ]
  },
  {
   "cell_type": "markdown",
   "metadata": {},
   "source": [
    "Load Supplementary Table 2 from DeJesus et al. (2017) as a dataframe. This is equivalent to the .sites.txt output file from the HMM used in the paper.   \n",
    "  \n",
    "  _NOTE:_ This table has already been adjusted to have the locations of genetic features from the 'full genetic features assembly.gff3' - this was achieved by running all data through the older HMM model, and then copying just the column mapping TA sites to genetic features."
   ]
  },
  {
   "cell_type": "code",
   "execution_count": 2,
   "metadata": {},
   "outputs": [],
   "source": [
    "sites_file = '../data/Mycobacterium tuberculosis/mbo002173137st2_updated.xlsx'\n",
    "sites_df = pd.read_excel(sites_file, skiprows = 1)"
   ]
  },
  {
   "cell_type": "markdown",
   "metadata": {},
   "source": [
    "Adjust the dataframe to only contain necessary information."
   ]
  },
  {
   "cell_type": "code",
   "execution_count": 3,
   "metadata": {},
   "outputs": [
    {
     "name": "stderr",
     "output_type": "stream",
     "text": [
      "/var/folders/2c/x4sldb3n7r53cf568_2l0yq00000gp/T/ipykernel_15907/2587632254.py:6: FutureWarning: A value is trying to be set on a copy of a DataFrame or Series through chained assignment using an inplace method.\n",
      "The behavior will change in pandas 3.0. This inplace method will never work because the intermediate object on which we are setting values always behaves as a copy.\n",
      "\n",
      "For example, when doing 'df[col].method(value, inplace=True)', try using 'df.method({col: value}, inplace=True)' or df[col] = df[col].method(value) instead, to perform the operation inplace on the original object.\n",
      "\n",
      "\n",
      "  sites_df_crop['Matches Non Permissive Motif'].fillna(0, inplace=True);\n"
     ]
    }
   ],
   "source": [
    "# Remove uneccesary columns\n",
    "sites_df_crop = sites_df.drop(['tRNA', 'rRNA','DNA-Methylation-Site','TRIT-Site','5pUTR','Promoter',\n",
    "                               'Num. of Datasets with Insertions','Sum of Normalized Read Counts'], axis=1)\n",
    "\n",
    "# Replace NA values\n",
    "sites_df_crop['Matches Non Permissive Motif'].fillna(0, inplace=True);"
   ]
  },
  {
   "cell_type": "markdown",
   "metadata": {},
   "source": [
    "Create a dictionary to store each ORF (gene, domain, unannotated region) and the number of TA sites in each essentiality state predicted within that ORF. Iterate through the sites_df_crop dataframe to collect all information."
   ]
  },
  {
   "cell_type": "code",
   "execution_count": 4,
   "metadata": {},
   "outputs": [],
   "source": [
    "feature_summary = {}\n",
    "\n",
    "# For each TA site within the genome (each row)...\n",
    "for index, row in sites_df_crop.iterrows():\n",
    "\n",
    "    # Find the associated orf\n",
    "    orf = row['ORF ID']\n",
    "\n",
    "    if pd.notna(orf):\n",
    "        \n",
    "        # Store orf(s) in a list\n",
    "        orf_ids = row['ORF ID'].split(',')\n",
    "\n",
    "        for orf_id in orf_ids:\n",
    "            # Create a new key in the feature_summary for each new ORF found\n",
    "            if orf_id not in feature_summary:\n",
    "                feature_summary[orf_id] = {\n",
    "                    'Name': orf_id,\n",
    "                    'Number of TA Sites': 0,\n",
    "                    'Number of Permissive (P) Sites': 0,\n",
    "                    'Number of Non-Permissive (NP) Sites': 0,\n",
    "                    'Number of Sites Belonging to Essential State': 0,\n",
    "                    'Number of Sites Belonging to Growth-Defect State': 0,\n",
    "                    'Number of Sites Belonging to Non-Essential State': 0,\n",
    "                    'Number of Sites Belonging to Growth-Advantage State': 0,\n",
    "                    'Final Call': ''}\n",
    "            # Increase number of TA sites within the associated ORF by 1\n",
    "            feature_summary[orf_id]['Number of TA Sites'] += 1\n",
    "            \n",
    "            # Record if the TA site is permissive or non-permissive by increasing count by 1\n",
    "            if row['Matches Non Permissive Motif'] == 1:\n",
    "                feature_summary[orf_id]['Number of Non-Permissive (NP) Sites'] += 1\n",
    "            else:\n",
    "                feature_summary[orf_id]['Number of Permissive (P) Sites'] += 1\n",
    "\n",
    "            # Increase by 1, the count of whichever state the TA site is predicted to be\n",
    "            if row['Essentiality State'] == 'ES':\n",
    "                feature_summary[orf_id]['Number of Sites Belonging to Essential State'] += 1\n",
    "            elif row['Essentiality State'] == 'GD':\n",
    "                feature_summary[orf_id]['Number of Sites Belonging to Growth-Defect State'] += 1\n",
    "            elif row['Essentiality State'] == 'NE':\n",
    "                feature_summary[orf_id]['Number of Sites Belonging to Non-Essential State'] += 1\n",
    "            elif row['Essentiality State'] == 'GA':\n",
    "                feature_summary[orf_id]['Number of Sites Belonging to Growth-Advantage State'] += 1"
   ]
  },
  {
   "cell_type": "markdown",
   "metadata": {},
   "source": [
    "Convert the feature_summary dictionary into a dataframe with relevant columns."
   ]
  },
  {
   "cell_type": "code",
   "execution_count": 5,
   "metadata": {},
   "outputs": [],
   "source": [
    "# Convert the gene_summary dictionary to a DataFrame\n",
    "features_df = pd.DataFrame.from_dict(feature_summary, orient='index')\n",
    "\n",
    "# Reorder columns to match the desired output\n",
    "features_df = features_df[['Name', 'Number of TA Sites', 'Number of Permissive (P) Sites',\n",
    "     'Number of Non-Permissive (NP) Sites', 'Number of Sites Belonging to Essential State',\n",
    "     'Number of Sites Belonging to Growth-Defect State', 'Number of Sites Belonging to Non-Essential State',\n",
    "     'Number of Sites Belonging to Growth-Advantage State', 'Final Call']]"
   ]
  },
  {
   "cell_type": "markdown",
   "metadata": {},
   "source": [
    "Determine which essentiality state has the highest number of TA sites for each ORF and add as a column in the feature dataframe."
   ]
  },
  {
   "cell_type": "code",
   "execution_count": 6,
   "metadata": {},
   "outputs": [],
   "source": [
    "# Select the subset of essentiality columns\n",
    "columns_subset = features_df.iloc[:, 4:8]  # Select columns by their integer index positions\n",
    "\n",
    "# Find the column name with the maximum value for each row\n",
    "max_TA_index = columns_subset.idxmax(axis=1)\n",
    "\n",
    "# Define the mapping dictionary for column name to abbreviation\n",
    "column_abbreviations = {'Number of Sites Belonging to Essential State': 'ES',\n",
    "                  'Number of Sites Belonging to Growth-Defect State': 'GD',\n",
    "                  'Number of Sites Belonging to Non-Essential State': 'NE',\n",
    "                  'Number of Sites Belonging to Growth-Advantage State': 'GA'}\n",
    "\n",
    "# Map the column names to their abbreviations\n",
    "max_TA_index_abbreviation = max_TA_index.map(column_abbreviations)\n",
    "\n",
    "# Add the abbreviations to genes_domains_df\n",
    "features_df['Final Call'] = max_TA_index_abbreviation"
   ]
  },
  {
   "cell_type": "markdown",
   "metadata": {},
   "source": [
    "Export dataframe as a .genes.txt file, mimicing the .genes.output output from the HMM model."
   ]
  },
  {
   "cell_type": "code",
   "execution_count": 7,
   "metadata": {},
   "outputs": [],
   "source": [
    "# Create header necessary for .genes.txt file\n",
    "header = \"#HMM - Genes\\n#command line:\\n#summary of gene calls:\\n#key: ES=essential, GD=insertions cause growth-defect, NE=non-essential, GA=insertions confer growth-advantage, N/A=not analyzed (genes with 0 TA sites)\\n#ORF\tTAs\tPermissive TAs\tNon-permissive TAs\tES sites\tGD sites\tNE sites\tGA sites\tcall\\n\"\n",
    "\n",
    "output_filename = '../data/Mycobacterium tuberculosis/NC_018143.1 HMM feature essentiality predictions.genes.txt'\n",
    "\n",
    "# Write the header and dataFrame to the file\n",
    "with open(output_filename, 'w') as f:\n",
    "    f.write(header)\n",
    "    features_df.to_csv(f, sep='\\t', index=False, header=False)"
   ]
  }
 ],
 "metadata": {
  "kernelspec": {
   "display_name": "Python 3",
   "language": "python",
   "name": "python3"
  },
  "language_info": {
   "codemirror_mode": {
    "name": "ipython",
    "version": 3
   },
   "file_extension": ".py",
   "mimetype": "text/x-python",
   "name": "python",
   "nbconvert_exporter": "python",
   "pygments_lexer": "ipython3",
   "version": "3.12.4"
  }
 },
 "nbformat": 4,
 "nbformat_minor": 2
}
