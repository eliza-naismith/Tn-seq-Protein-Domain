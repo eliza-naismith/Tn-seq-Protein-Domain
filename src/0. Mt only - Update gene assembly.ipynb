{
 "cells": [
  {
   "cell_type": "markdown",
   "metadata": {},
   "source": [
    "## Update gene assembly - *Mycobacterium tuberculosis only*"
   ]
  },
  {
   "cell_type": "markdown",
   "metadata": {},
   "source": [
    "This script is to match up the gene assemblies __NC_018143.1__ and __NC_000962.3__, to mimic the gene assembly used in the DeJesus et al. (2017) paper.\n",
    "The updated gene assembly uses the co-ordinate positions from NC_018143.1 but matched with the gene locus IDs and names from NC_000962.3."
   ]
  },
  {
   "cell_type": "code",
   "execution_count": 10,
   "metadata": {},
   "outputs": [],
   "source": [
    "import pandas as pd\n",
    "import gffpandas.gffpandas as gffpd"
   ]
  },
  {
   "cell_type": "markdown",
   "metadata": {},
   "source": [
    "First, read in the gene assembly GFF3 files."
   ]
  },
  {
   "cell_type": "code",
   "execution_count": 11,
   "metadata": {},
   "outputs": [],
   "source": [
    "coordinates_gff = gffpd.read_gff3('../data/Mycobacterium tuberculosis/NC_018143.1 gene assembly.gff3')\n",
    "genename_gff = gffpd.read_gff3('../data/Mycobacterium tuberculosis/NC_000962.3 gene assembly.gff3')"
   ]
  },
  {
   "cell_type": "markdown",
   "metadata": {},
   "source": [
    "Convert the GFF3s to Dataframes and merge them together."
   ]
  },
  {
   "cell_type": "code",
   "execution_count": 12,
   "metadata": {},
   "outputs": [],
   "source": [
    "# Convert to dataframe where each gene attribute is a sperate column\n",
    "coordinates_df = coordinates_gff.attributes_to_columns()\n",
    "genename_df = genename_gff.attributes_to_columns()"
   ]
  },
  {
   "cell_type": "code",
   "execution_count": 13,
   "metadata": {},
   "outputs": [],
   "source": [
    "# Modify the locus tag naming schemes to match\n",
    "# NC_018143.1 (coordinates_df) has a different abbreviation at the beginning, 'RVBD_' which is converted to 'Rv'\n",
    "coordinates_df['locus_tag'] = coordinates_df['locus_tag'].str.replace('RVBD_', 'Rv')\n",
    "\n",
    "# Create a dataframe of only key information of the gene IDs from genename_df\n",
    "genename_df_short = genename_df[['locus_tag', 'gene', 'Name']]"
   ]
  },
  {
   "cell_type": "code",
   "execution_count": 14,
   "metadata": {},
   "outputs": [],
   "source": [
    "# Merge the dataframes on the locus_tag column\n",
    "merged_df = pd.merge(coordinates_df, genename_df_short, on = 'locus_tag')"
   ]
  },
  {
   "cell_type": "markdown",
   "metadata": {},
   "source": [
    "Now, create a new 'attributes' string to replace the existing attributes column"
   ]
  },
  {
   "cell_type": "code",
   "execution_count": 15,
   "metadata": {},
   "outputs": [],
   "source": [
    "for index, row in merged_df.iterrows():\n",
    "\n",
    "    # Generate an attribute string based on attributes of interest\n",
    "    attribute_str = f\"ID=gene-{row['locus_tag']};Name={row['Name_y']};locus_tag={row['locus_tag']}\"\n",
    "\n",
    "    # If a gene name is available, add to the attributes string\n",
    "    if pd.isna(row['gene']) == False:\n",
    "        attribute_str += f\";gene={row['gene']}\"\n",
    "\n",
    "    # Replace the existing attributes string with the new one\n",
    "    merged_df.at[index, 'attributes'] = attribute_str"
   ]
  },
  {
   "cell_type": "markdown",
   "metadata": {},
   "source": [
    "Convert the merged_df to a GFF3 DataFrame and export the GFF3 file."
   ]
  },
  {
   "cell_type": "code",
   "execution_count": 16,
   "metadata": {},
   "outputs": [],
   "source": [
    "# Keep only the first nine columns (for standard GFF3 format)\n",
    "merged_df = merged_df.iloc[:, :9]"
   ]
  },
  {
   "cell_type": "code",
   "execution_count": 17,
   "metadata": {},
   "outputs": [],
   "source": [
    "# Convert the merged dataframe back to a GFF3 dataframe\n",
    "header = \"##gff-version 3\\n##sequence-region NC_018143.1 1 4411708\\n\"\n",
    "merged_gff = gffpd.Gff3DataFrame(input_df=merged_df, input_header=header)"
   ]
  },
  {
   "cell_type": "code",
   "execution_count": 18,
   "metadata": {},
   "outputs": [],
   "source": [
    "# Save the GFF3 dataframe as a file\n",
    "merged_gff.to_gff3('../data/Mycobacterium tuberculosis/NC_018143.1 gene assembly updated.gff3')"
   ]
  }
 ],
 "metadata": {
  "kernelspec": {
   "display_name": "Python 3",
   "language": "python",
   "name": "python3"
  },
  "language_info": {
   "codemirror_mode": {
    "name": "ipython",
    "version": 3
   },
   "file_extension": ".py",
   "mimetype": "text/x-python",
   "name": "python",
   "nbconvert_exporter": "python",
   "pygments_lexer": "ipython3",
   "version": "3.12.4"
  }
 },
 "nbformat": 4,
 "nbformat_minor": 2
}
