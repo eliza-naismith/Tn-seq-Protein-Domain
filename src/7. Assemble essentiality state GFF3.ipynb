{
 "cells": [
  {
   "cell_type": "markdown",
   "metadata": {},
   "source": [
    "## Assemble essentiality state GFF3"
   ]
  },
  {
   "cell_type": "markdown",
   "metadata": {},
   "source": [
    "The purpose of this script is to convert regions of the genome predicted as ES/NE/GA/GD into a GFF3, where these essentiality regions are treated as features. As a GFF3 file, these can then be used in JBrowse2 to visualise the essentiality on a feature track."
   ]
  },
  {
   "cell_type": "code",
   "execution_count": 12,
   "metadata": {},
   "outputs": [],
   "source": [
    "import pandas as pd\n",
    "import gffpandas.gffpandas as gffpd"
   ]
  },
  {
   "cell_type": "markdown",
   "metadata": {},
   "source": [
    "First, read in the corresponding .sites.txt file, depending on the _Mycobacterium_ species. This should have already been generated using the TRANSIT HMM model."
   ]
  },
  {
   "cell_type": "code",
   "execution_count": 13,
   "metadata": {},
   "outputs": [],
   "source": [
    "# For Mycobcaterium bovis\n",
    "input_file = '../data/Mycobacterium bovis/LT708304 HMM feature essentiality predictions.sites.txt'\n",
    "input_cols = ['Coordinate', 'Num. insertions', '% ES', '% GD', '% NE', '% GA', 'Essentiality State', 'ORF ID']\n",
    "\n",
    "essentiality_df = pd.read_table(input_file, skiprows = 18, names = input_cols)\n",
    "\n",
    "species = 'LT708304.1'\n",
    "gff3_header = 'LT708304.1 1 4349904'\n",
    "gff3_output = '../data/Mycobacterium bovis/LT708304 essentialty states assembly.gff3'"
   ]
  },
  {
   "cell_type": "code",
   "execution_count": 14,
   "metadata": {},
   "outputs": [],
   "source": [
    "# For Mycobacterium tuberculosis\n",
    "input_file = '../data/Mycobacterium tuberculosis/mbo002173137st2_updated.xlsx' # This is the equivalent file from DeJesus et al. (2017)\n",
    "input_cols = ['Coordinate','Matches Non Permissive Motif',\t'Num. of Datasets with Insertions',\n",
    "              'Sum of Normalized Read Counts','Mean Normalized Read Count Among Replicates With Insertions',\n",
    "              'Low Coverage Site','ORF ID','tRNA','rRNA','DNA-Methylation-Site','TRIT-Site','5pUTR','Promoter',\n",
    "              'Essentiality State']\n",
    "\n",
    "essentiality_df = pd.read_excel(input_file, names = input_cols)\n",
    "\n",
    "species = 'NC_018143.1'\n",
    "gff3_header = 'NC_018143.1 1 4411708'\n",
    "gff3_output = '../data/Mycobacterium tuberculosis/NC_018143.1 essentiality states assembly.gff3'"
   ]
  },
  {
   "cell_type": "markdown",
   "metadata": {},
   "source": [
    "Keep only the necessary columns."
   ]
  },
  {
   "cell_type": "code",
   "execution_count": 15,
   "metadata": {},
   "outputs": [],
   "source": [
    "cols_of_interest = ['Coordinate', 'Essentiality State']\n",
    "essentiality_df = essentiality_df[cols_of_interest]"
   ]
  },
  {
   "cell_type": "markdown",
   "metadata": {},
   "source": [
    "Create a function to find the coordinates for each different state (ES, NE, GA, GD):"
   ]
  },
  {
   "cell_type": "code",
   "execution_count": 16,
   "metadata": {},
   "outputs": [],
   "source": [
    "def find_state_coordinates(df, state):\n",
    "\n",
    "    # Initialise lists for the definite regions and the potential regions\n",
    "    state_regions = []\n",
    "    potential_state_regions = []\n",
    "\n",
    "    first_state = True\n",
    "    found_state = False\n",
    "    current_coord = 0\n",
    "\n",
    "    for index, row in df.iterrows():\n",
    "        previous_coord = current_coord + 1\n",
    "        current_coord = row['Coordinate']\n",
    "        if row['Essentiality State'] == state:\n",
    "            # If this is the first of that state found in a state group...\n",
    "            if first_state == True:\n",
    "                # The state region could potentially start from the previous coord + 1\n",
    "                potential_start_coord = previous_coord\n",
    "                # The state region definitely starts with the current coord\n",
    "                start_coord = current_coord\n",
    "\n",
    "                first_state = False\n",
    "                found_state = True\n",
    "            # Otherwise, keep updating the end_coord as the current_coord\n",
    "            end_coord = current_coord\n",
    "        else:\n",
    "            # If the end of the state region...\n",
    "            if found_state == True:\n",
    "                # The state region could have potentially ended at the current state - 1\n",
    "                potential_end_coord = current_coord - 1\n",
    "                # Record the co-ordinates of the region found\n",
    "                potential_state_regions.append((potential_start_coord, potential_end_coord))\n",
    "                state_regions.append((start_coord, end_coord))\n",
    "            # Reset the first_state and found_state variables\n",
    "            first_state = True\n",
    "            found_state = False\n",
    "    \n",
    "    return state_regions, potential_state_regions"
   ]
  },
  {
   "cell_type": "markdown",
   "metadata": {},
   "source": [
    "Individually find all of the coordinates for each essentiality state."
   ]
  },
  {
   "cell_type": "code",
   "execution_count": 17,
   "metadata": {},
   "outputs": [],
   "source": [
    "rows = []\n",
    "\n",
    "# Find coordinates for essential states:\n",
    "ES_regions, potential_ES_regions = find_state_coordinates(essentiality_df, \"ES\")\n",
    "# Loop through all essential states found and generate the text required for a GFF3 file.\n",
    "for index, coord in enumerate(ES_regions):\n",
    "    name = f\"Essential region {index+1}\"\n",
    "    definite_row = {'start': coord[0],'end': coord[1],'type': \"State\",'attributes': f\"ID={name};state=Essential\"}\n",
    "    potential_row = {'start': potential_ES_regions[index][0], 'end': potential_ES_regions[index][1], 'type': \"Potential_state\", 'attributes': f\"Parent={name};state=Essential\"}\n",
    "    rows.append(definite_row)\n",
    "    rows.append(potential_row)\n",
    "\n",
    "# Find coordinates for nonessential states:\n",
    "NE_regions, potential_NE_regions = find_state_coordinates(essentiality_df, \"NE\")\n",
    "# Loop through all nonessential states found and generate the text required for a GFF3 file.\n",
    "for index, coord in enumerate(NE_regions):\n",
    "    name = f\"Non-essential region {index+1}\"\n",
    "    definite_row = {'start': coord[0],'end': coord[1],'type': \"State\",'attributes': f\"ID={name};state=Non-essential\"}\n",
    "    potential_row = {'start': potential_NE_regions[index][0], 'end': potential_NE_regions[index][1], 'type': \"Potential_state\", 'attributes': f\"Parent={name};state=Non-essential\"}\n",
    "    rows.append(definite_row)\n",
    "    rows.append(potential_row)\n",
    "\n",
    "# Find coordinates for growth advantage states:\n",
    "GA_regions, potential_GA_regions = find_state_coordinates(essentiality_df, \"GA\")\n",
    "# Loop through all growth advantage states found and generate the text required for a GFF3 file.\n",
    "for index, coord in enumerate(GA_regions):\n",
    "    name = f\"Growth advantage region {index+1}\"\n",
    "    definite_row = {'start': coord[0],'end': coord[1],'type': \"State\",'attributes': f\"ID={name};state=Growth advantage\"}\n",
    "    potential_row = {'start': potential_GA_regions[index][0], 'end': potential_GA_regions[index][1], 'type': \"Potential_state\", 'attributes': f\"Parent={name};state=Growth advantage\"}\n",
    "    rows.append(definite_row)\n",
    "    rows.append(potential_row)\n",
    "\n",
    "# Find coordinates for growth disadvantage states:\n",
    "GD_regions, potential_GD_regions = find_state_coordinates(essentiality_df, \"GD\")\n",
    "# Loop through all growth disadvantage states found and generate the text required for a GFF3 file.\n",
    "for index, coord in enumerate(GD_regions):\n",
    "    name = f\"Growth defect region {index+1}\"\n",
    "    definite_row = {'start': coord[0],'end': coord[1],'type': \"State\",'attributes': f\"ID={name};state=Growth defect\"}\n",
    "    potential_row = {'start': potential_GD_regions[index][0], 'end': potential_GD_regions[index][1], 'type': \"Potential_state\", 'attributes': f\"Parent={name};state=Growth defect\"}\n",
    "    rows.append(definite_row)\n",
    "    rows.append(potential_row)\n",
    "\n",
    "# Generate a dataframe of just the essential information\n",
    "essentiality_states_df = pd.DataFrame(rows, columns=['start', 'end', 'type', 'attributes'])"
   ]
  },
  {
   "cell_type": "markdown",
   "metadata": {},
   "source": [
    "Expand the dataframe to contain all information required for a GFF3 file."
   ]
  },
  {
   "cell_type": "code",
   "execution_count": 18,
   "metadata": {},
   "outputs": [],
   "source": [
    "col_names = ['seq_id', 'source', 'feature', 'feature start', 'feature end', 'score', 'strand', 'phase', 'attributes']\n",
    "\n",
    "essentiality_states_df['seq_id'] = species\n",
    "essentiality_states_df['source'] = \"HMM states\"\n",
    "essentiality_states_df['score'] = \".\"\n",
    "essentiality_states_df['strand'] = \".\"\n",
    "essentiality_states_df['phase'] = \".\""
   ]
  },
  {
   "cell_type": "markdown",
   "metadata": {},
   "source": [
    "Convert to GFF3 dataframe and export GFF3."
   ]
  },
  {
   "cell_type": "code",
   "execution_count": 19,
   "metadata": {},
   "outputs": [],
   "source": [
    "header = f\"##gff-version 3\\n##sequence-region {gff3_header}\\n\"\n",
    "essentiality_states_gff = gffpd.Gff3DataFrame(input_df=essentiality_states_df, input_header=header)"
   ]
  },
  {
   "cell_type": "code",
   "execution_count": 20,
   "metadata": {},
   "outputs": [],
   "source": [
    "# Save the GFF3 dataframe as a file\n",
    "essentiality_states_gff.to_gff3(gff3_output)"
   ]
  }
 ],
 "metadata": {
  "kernelspec": {
   "display_name": "Python 3",
   "language": "python",
   "name": "python3"
  },
  "language_info": {
   "codemirror_mode": {
    "name": "ipython",
    "version": 3
   },
   "file_extension": ".py",
   "mimetype": "text/x-python",
   "name": "python",
   "nbconvert_exporter": "python",
   "pygments_lexer": "ipython3",
   "version": "3.12.4"
  }
 },
 "nbformat": 4,
 "nbformat_minor": 2
}
