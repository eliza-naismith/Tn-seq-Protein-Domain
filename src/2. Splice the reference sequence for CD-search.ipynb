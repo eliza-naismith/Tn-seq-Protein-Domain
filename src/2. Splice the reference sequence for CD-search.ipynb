{
 "cells": [
  {
   "cell_type": "markdown",
   "metadata": {},
   "source": [
    "## Splice the reference sequence for CD-search"
   ]
  },
  {
   "cell_type": "markdown",
   "metadata": {},
   "source": [
    "The script splits the reference fasta file into segments of __~180,000__ nucleotides. This is the longest nucleotide length that can be inputted into __NCBI CD-search__. If the splice site would split the sequence within a gene, the coordinates are adjusted accordingly to keep all genes intact."
   ]
  },
  {
   "cell_type": "code",
   "execution_count": 21,
   "metadata": {},
   "outputs": [],
   "source": [
    "from Bio import SeqIO\n",
    "import pandas as pd\n",
    "import gffpandas.gffpandas as gffpd"
   ]
  },
  {
   "cell_type": "markdown",
   "metadata": {},
   "source": [
    "First, read in the corresponding reference fasta and gene assembly GFF3, depending on the _Mycobacterium_ species."
   ]
  },
  {
   "cell_type": "code",
   "execution_count": 22,
   "metadata": {},
   "outputs": [],
   "source": [
    "# For Mycobacterium bovis:\n",
    "species_name = 'M.bovis'\n",
    "fasta_file = '../data/Mycobacterium bovis/Mbovis_AF2122_97 reference sequence.fasta'\n",
    "gene_assembly_file = '../data/Mycobacterium bovis/LT708304 gene assembly.gff3'\n",
    "output_folder = '../data/Mycobacterium bovis/Reference fasta segments for CD-search'"
   ]
  },
  {
   "cell_type": "code",
   "execution_count": 23,
   "metadata": {},
   "outputs": [],
   "source": [
    "# For Mycobacterium tuberculosis:\n",
    "species_name = 'M.tuberculosis'\n",
    "fasta_file = '../data/Mycobacterium tuberculosis/NC_018143.1 reference sequence.fasta'\n",
    "gene_assembly_file = '../data/Mycobacterium tuberculosis/NC_018143.1 gene assembly updated.gff3'\n",
    "output_folder = '../data/Mycobacterium tuberculosis/Reference fasta segments for CD-search'"
   ]
  },
  {
   "cell_type": "markdown",
   "metadata": {},
   "source": [
    "Isolate the reference sequence."
   ]
  },
  {
   "cell_type": "code",
   "execution_count": 24,
   "metadata": {},
   "outputs": [],
   "source": [
    "# Read in the reference sequence\n",
    "reference_seq = SeqIO.read(open(fasta_file), 'fasta')\n",
    "whole_seq = reference_seq.seq"
   ]
  },
  {
   "cell_type": "markdown",
   "metadata": {},
   "source": [
    "Use the gene assembly file to find the locations of all the genes:"
   ]
  },
  {
   "cell_type": "code",
   "execution_count": 25,
   "metadata": {},
   "outputs": [],
   "source": [
    "# Read in the gene assembly\n",
    "gene_gff = gffpd.read_gff3(gene_assembly_file)\n",
    "gene_df = gene_gff.df"
   ]
  },
  {
   "cell_type": "code",
   "execution_count": 26,
   "metadata": {},
   "outputs": [],
   "source": [
    "# Store the gene co-ordinates in a list of tuples\n",
    "\n",
    "gene_coords = []\n",
    "\n",
    "for index, row in gene_df.iterrows():\n",
    "    gene_coords.append((row['start'], row['end']))"
   ]
  },
  {
   "cell_type": "markdown",
   "metadata": {},
   "source": [
    "Find the co-ordinates where the fasta file should be cut. This is approximately every 180,000 nucleotides. If this falls within a gene, iteratively remove nucleotides until it no longer does."
   ]
  },
  {
   "cell_type": "code",
   "execution_count": 27,
   "metadata": {},
   "outputs": [],
   "source": [
    "# Function to check if a position is within a gene\n",
    "def is_within_gene(position, gene_coords):\n",
    "    for start, end in gene_coords:\n",
    "        if start <= position <= end:\n",
    "            return True\n",
    "    return False"
   ]
  },
  {
   "cell_type": "code",
   "execution_count": 28,
   "metadata": {},
   "outputs": [],
   "source": [
    "# Start at 1 and look at the coordinate positioned 18,0000 nucleotides onwards.\n",
    "# If it is not within a gene, that is the next starting co-ordinate and the cycle continues.\n",
    "# If the position is within a gene, iteratively remove nucleotides until it is not. This is the next\n",
    "# starting co-ordinate and the cylce continues up to the length of the fasta file.\n",
    "\n",
    "start = 1\n",
    "gap = 180000\n",
    "cut_coords = []\n",
    "len_seq = len(whole_seq)\n",
    "\n",
    "# Up to the total length of the sequence...\n",
    "while start < len_seq:\n",
    "    # Calculate end splice coord\n",
    "    end = start + gap\n",
    "    # Check end coord isn't within a gene\n",
    "    while is_within_gene(end, gene_coords):\n",
    "        # Keep going down 1 position until no longer in gene\n",
    "        end -= 1\n",
    "    # If the end will be greater the sequence length\n",
    "    if end > len_seq:\n",
    "        # End max is the sequence length\n",
    "        end = len_seq\n",
    "    # Add start and end coords to cut_coords list\n",
    "    cut_coords.append((start, end))\n",
    "    # The next start coord begins at the following position\n",
    "    start = end + 1"
   ]
  },
  {
   "cell_type": "markdown",
   "metadata": {},
   "source": [
    "Use the calculated coordinates to splice the reference sequence into ~180,000 nucleotide chunks."
   ]
  },
  {
   "cell_type": "code",
   "execution_count": 29,
   "metadata": {},
   "outputs": [],
   "source": [
    "cut_seq = []\n",
    "\n",
    "for coord in cut_coords:\n",
    "    start, end = coord\n",
    "    seq = whole_seq[start-1:end]\n",
    "    cut_seq.append(seq)"
   ]
  },
  {
   "cell_type": "markdown",
   "metadata": {},
   "source": [
    "Create a fasta file for each seperate sequence splice."
   ]
  },
  {
   "cell_type": "code",
   "execution_count": 30,
   "metadata": {},
   "outputs": [],
   "source": [
    "counter = 1\n",
    "\n",
    "for index, seq in enumerate(cut_coords):\n",
    "    # Modify the name of each fasta file with the segment coordinates\n",
    "    name = f\"{output_folder}/{species_name} section {counter} - {cut_coords[index][0]}:{cut_coords[index][1]}.fasta\"\n",
    "    fasta_header = f\"> {species_name} section {counter} - {cut_coords[index][0]}:{cut_coords[index][1]}\"\n",
    "    \n",
    "    # Find corresponding sequence segment\n",
    "    seq = str(cut_seq[index])\n",
    "\n",
    "    # Write fasta file\n",
    "    with open(name, \"w\") as f:\n",
    "        f.write(fasta_header + \"\\n\")\n",
    "        f.write(seq + \"\\n\")\n",
    "\n",
    "    counter += 1"
   ]
  }
 ],
 "metadata": {
  "kernelspec": {
   "display_name": "Python 3",
   "language": "python",
   "name": "python3"
  },
  "language_info": {
   "codemirror_mode": {
    "name": "ipython",
    "version": 3
   },
   "file_extension": ".py",
   "mimetype": "text/x-python",
   "name": "python",
   "nbconvert_exporter": "python",
   "pygments_lexer": "ipython3",
   "version": "3.12.4"
  }
 },
 "nbformat": 4,
 "nbformat_minor": 2
}
