{
 "cells": [
  {
   "cell_type": "markdown",
   "metadata": {},
   "source": [
    "## Predicting essential region containing genes"
   ]
  },
  {
   "cell_type": "markdown",
   "metadata": {},
   "source": [
    "This script uses the .genes.txt output of the TRANSIT HMM model to determine which genes may contain essential regions. These are genes that contain a __mix of at least 1 essential and at least 1 non-essential (nonessential, growth advantage, or growth disadvantage) regions__. To be considered in the analysis, the region must have at least 3 TA sites."
   ]
  },
  {
   "cell_type": "code",
   "execution_count": 57,
   "metadata": {},
   "outputs": [],
   "source": [
    "import pandas as pd"
   ]
  },
  {
   "cell_type": "markdown",
   "metadata": {},
   "source": [
    "First, find the corresponding .genes.txt file, depending on the _Mycobacterium_ species. This should have already been generated using the TRANSIT HMM model."
   ]
  },
  {
   "cell_type": "code",
   "execution_count": 58,
   "metadata": {},
   "outputs": [],
   "source": [
    "# For Mycobacterium bovis:\n",
    "input_file = '../data/Mycobacterium bovis/LT708304 HMM feature essentiality predictions.genes.txt'\n",
    "input_cols = ['ORF', 'gene', 'annotation', 'TAs', 'ES sites', 'GD sites', 'NE sites', \n",
    "        'GA sites', 'saturation', 'NZmean', 'call']\n",
    "output_gene_list = '../data/Mycobacterium bovis/LT708304 predicted essential region containing genes.txt'"
   ]
  },
  {
   "cell_type": "code",
   "execution_count": 59,
   "metadata": {},
   "outputs": [],
   "source": [
    "# For Mycobacterium tuberculosis:\n",
    "input_file = '../data/Mycobacterium tuberculosis/NC_018143.1 HMM feature essentiality predictions.genes.txt'\n",
    "input_cols = ['ORF', 'TAs', 'Permissive TAs', 'Non-permissive TAs', 'ES sites', 'GD sites', 'NE sites', \n",
    "               'GA sites', 'call']\n",
    "output_gene_list = '../data/Mycobacterium tuberculosis/NC_018143.1 predicted essential region containing genes.txt'"
   ]
  },
  {
   "cell_type": "markdown",
   "metadata": {},
   "source": [
    "Read in the .genes.txt file as a dataframe and adjust to only contain necessary data."
   ]
  },
  {
   "cell_type": "code",
   "execution_count": 60,
   "metadata": {},
   "outputs": [],
   "source": [
    "calls_df = pd.read_table(input_file, skiprows = 5, names = input_cols)"
   ]
  },
  {
   "cell_type": "code",
   "execution_count": 61,
   "metadata": {},
   "outputs": [],
   "source": [
    "# Drop rows where 'ORF' does not contain ':'\n",
    "calls_df = calls_df[calls_df['ORF'].str.contains(':')]\n",
    "\n",
    "calls_df['locus_tag'] = None\n",
    "calls_df['coords'] = None\n",
    "\n",
    "# Split the names into locus_tag and coordinates\n",
    "calls_df[['locus_tag', 'coords']] = calls_df['ORF'].str.split(':', n=1, expand = True)\n",
    "\n",
    "# Remove any rows with no locus_tag\n",
    "calls_df = calls_df[calls_df['locus_tag'] != 'nan']\n",
    "\n",
    "# Capitalize all locus tags\n",
    "calls_df['locus_tag'] = calls_df['locus_tag'].str.capitalize()"
   ]
  },
  {
   "cell_type": "markdown",
   "metadata": {},
   "source": [
    "Filter only for features with at least 3 total TA sites, as this is the criteria for consideration."
   ]
  },
  {
   "cell_type": "code",
   "execution_count": 62,
   "metadata": {},
   "outputs": [],
   "source": [
    "# Filter for calls with at least 3 TA sites\n",
    "calls_df_3TA = calls_df[calls_df['TAs'] >= 3]"
   ]
  },
  {
   "cell_type": "markdown",
   "metadata": {},
   "source": [
    "Generate a pivot table where each locus tag is a row, and the tally of features (genes, domains, or unannotated regions) predicted of essentiality call are the columns."
   ]
  },
  {
   "cell_type": "code",
   "execution_count": 63,
   "metadata": {},
   "outputs": [],
   "source": [
    "# Create a pivot table for each locus_tag\n",
    "pivot_df = calls_df_3TA.pivot_table(index='locus_tag', columns='call', aggfunc='size', fill_value=0)\n",
    "\n",
    "# Reset the index to make 'locus_tag' a column again\n",
    "pivot_df = pivot_df.reset_index()"
   ]
  },
  {
   "cell_type": "markdown",
   "metadata": {},
   "source": [
    "Filter for potential essential region containing genes. These are genes with at least one essential feautre and at least one nonessential / growth advantage / growth disadvantage region."
   ]
  },
  {
   "cell_type": "code",
   "execution_count": 64,
   "metadata": {},
   "outputs": [
    {
     "name": "stderr",
     "output_type": "stream",
     "text": [
      "/var/folders/2c/x4sldb3n7r53cf568_2l0yq00000gp/T/ipykernel_16205/2330643103.py:4: UserWarning: Boolean Series key will be reindexed to match DataFrame index.\n",
      "  pivot_df_filter = pivot_df_filter[pivot_df['ES'] > 0]\n"
     ]
    }
   ],
   "source": [
    "# Filter for at least 1 GA, GD, or NE site\n",
    "pivot_df_filter = pivot_df[(pivot_df['GA'] > 0) | (pivot_df['GD'] > 0) | (pivot_df['NE'] > 0)]\n",
    "# Additionally filter for at least on ES site\n",
    "pivot_df_filter = pivot_df_filter[pivot_df['ES'] > 0]"
   ]
  },
  {
   "cell_type": "markdown",
   "metadata": {},
   "source": [
    "Create a list of predicted essential region containing genes and export as a .txt file."
   ]
  },
  {
   "cell_type": "code",
   "execution_count": 65,
   "metadata": {},
   "outputs": [],
   "source": [
    "essential_region_gene_list = []\n",
    "\n",
    "for index, row in pivot_df_filter.iterrows():\n",
    "    essential_region_gene_list.append(row['locus_tag'])"
   ]
  },
  {
   "cell_type": "code",
   "execution_count": 66,
   "metadata": {},
   "outputs": [],
   "source": [
    "with open(output_gene_list, 'w') as output:\n",
    "    for locus_tag in essential_region_gene_list:\n",
    "        output.write(str(locus_tag) + '\\n')"
   ]
  }
 ],
 "metadata": {
  "kernelspec": {
   "display_name": "Python 3",
   "language": "python",
   "name": "python3"
  },
  "language_info": {
   "codemirror_mode": {
    "name": "ipython",
    "version": 3
   },
   "file_extension": ".py",
   "mimetype": "text/x-python",
   "name": "python",
   "nbconvert_exporter": "python",
   "pygments_lexer": "ipython3",
   "version": "3.12.4"
  }
 },
 "nbformat": 4,
 "nbformat_minor": 2
}
